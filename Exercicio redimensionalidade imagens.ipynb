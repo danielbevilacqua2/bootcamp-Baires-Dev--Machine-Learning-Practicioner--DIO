{
 "cells": [
  {
   "cell_type": "code",
   "execution_count": 13,
   "id": "142660c5-3ad0-49a3-9ba5-92eee1565678",
   "metadata": {},
   "outputs": [],
   "source": [
    "import PIL\n",
    "from PIL import Image\n",
    "import numpy as np\n"
   ]
  },
  {
   "cell_type": "code",
   "execution_count": 15,
   "id": "864e8052-baee-4cad-91a0-70ae37b38566",
   "metadata": {},
   "outputs": [],
   "source": [
    "pth= r\"C:\\Users\\Daniel Bevilacqua\\Downloads\\IMG_20250109_162514.jpg\"\n",
    "img = Image.open(pth)\n",
    "img = img.resize((4080,2296))\n"
   ]
  },
  {
   "cell_type": "code",
   "execution_count": 17,
   "id": "63612e78-aa5d-43cd-a33d-716baceec3f5",
   "metadata": {},
   "outputs": [],
   "source": [
    "array = np.array(img)\n",
    "gray = array[:,:,0] * 0.299 + array[:,:,1] * 0.587 + array[:,:,2] * 0.114\n",
    "# deve-se transformar o tipo do array de float para inteiro para a imagem ser convertida da forma correta\n",
    "gray = gray.astype(np.uint8)\n",
    "gray_image = Image.fromarray(gray, mode=\"L\")\n"
   ]
  },
  {
   "cell_type": "code",
   "execution_count": 19,
   "id": "212a4be5-5792-40a3-a3d3-7381e357ead5",
   "metadata": {},
   "outputs": [],
   "source": [
    "value = 120\n",
    "bw = np.asarray([[255 if x > value else 0 for x in linha] for linha in gray]).astype(np.uint8)\n",
    "bwi = Image.fromarray(bw,mode='L')\n"
   ]
  },
  {
   "cell_type": "code",
   "execution_count": null,
   "id": "d9255962-4e02-40f8-8746-ebfcfde6633c",
   "metadata": {},
   "outputs": [],
   "source": [
    "gray_image.show()\n",
    "bwi.show()\n",
    "reverse_image.show()\n"
   ]
  },
  {
   "cell_type": "code",
   "execution_count": null,
   "id": "5cba630b-eece-4781-98b6-25701459baf3",
   "metadata": {},
   "outputs": [],
   "source": []
  }
 ],
 "metadata": {
  "kernelspec": {
   "display_name": "Python 3 (ipykernel)",
   "language": "python",
   "name": "python3"
  },
  "language_info": {
   "codemirror_mode": {
    "name": "ipython",
    "version": 3
   },
   "file_extension": ".py",
   "mimetype": "text/x-python",
   "name": "python",
   "nbconvert_exporter": "python",
   "pygments_lexer": "ipython3",
   "version": "3.12.4"
  }
 },
 "nbformat": 4,
 "nbformat_minor": 5
}
